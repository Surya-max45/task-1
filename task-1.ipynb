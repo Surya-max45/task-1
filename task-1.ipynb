{
 "cells": [
  {
   "cell_type": "code",
   "execution_count": 31,
   "id": "6c4d6922-28bc-4f1a-8a9a-1155b1f264f8",
   "metadata": {},
   "outputs": [],
   "source": [
    "import pandas as pd\n",
    "import matplotlib.pyplot as plt\n",
    "from sklearn.preprocessing import StandardScaler\n",
    "import seaborn as sns"
   ]
  },
  {
   "cell_type": "code",
   "execution_count": 32,
   "id": "31ebec02-018f-4382-ba00-c3c8200320ec",
   "metadata": {},
   "outputs": [],
   "source": [
    "df = pd.read_csv(\"Titanic-Dataset.csv\")"
   ]
  },
  {
   "cell_type": "code",
   "execution_count": 33,
   "id": "f04aa4fd-2fa9-402f-b78a-0cdccab14418",
   "metadata": {},
   "outputs": [
    {
     "name": "stdout",
     "output_type": "stream",
     "text": [
      "<class 'pandas.core.frame.DataFrame'>\n",
      "RangeIndex: 891 entries, 0 to 890\n",
      "Data columns (total 12 columns):\n",
      " #   Column       Non-Null Count  Dtype  \n",
      "---  ------       --------------  -----  \n",
      " 0   PassengerId  891 non-null    int64  \n",
      " 1   Survived     891 non-null    int64  \n",
      " 2   Pclass       891 non-null    int64  \n",
      " 3   Name         891 non-null    object \n",
      " 4   Sex          891 non-null    object \n",
      " 5   Age          714 non-null    float64\n",
      " 6   SibSp        891 non-null    int64  \n",
      " 7   Parch        891 non-null    int64  \n",
      " 8   Ticket       891 non-null    object \n",
      " 9   Fare         891 non-null    float64\n",
      " 10  Cabin        204 non-null    object \n",
      " 11  Embarked     889 non-null    object \n",
      "dtypes: float64(2), int64(5), object(5)\n",
      "memory usage: 83.7+ KB\n",
      "None\n"
     ]
    }
   ],
   "source": [
    "print(df.info())"
   ]
  },
  {
   "cell_type": "code",
   "execution_count": 34,
   "id": "55ab2157-1e57-48ba-a96e-b3221e75d3a3",
   "metadata": {},
   "outputs": [
    {
     "name": "stdout",
     "output_type": "stream",
     "text": [
      "\n",
      "Missing values:\n",
      " PassengerId      0\n",
      "Survived         0\n",
      "Pclass           0\n",
      "Name             0\n",
      "Sex              0\n",
      "Age            177\n",
      "SibSp            0\n",
      "Parch            0\n",
      "Ticket           0\n",
      "Fare             0\n",
      "Cabin          687\n",
      "Embarked         2\n",
      "dtype: int64\n"
     ]
    }
   ],
   "source": [
    "print(\"\\nMissing values:\\n\", df.isnull().sum())"
   ]
  },
  {
   "cell_type": "code",
   "execution_count": 35,
   "id": "154c5e1d-9283-461e-adca-6721810d3f06",
   "metadata": {},
   "outputs": [],
   "source": [
    "df['Age'] = df['Age'].fillna(df['Age'].median())\n",
    "df['Embarked'] = df['Embarked'].fillna(df['Embarked'].mode()[0])\n",
    "if 'Cabin' in df.columns:\n",
    "    df = df.drop(columns=['Cabin'])"
   ]
  },
  {
   "cell_type": "code",
   "execution_count": 36,
   "id": "c6fd36c5-6526-45d4-b443-ce5ca3faba29",
   "metadata": {},
   "outputs": [],
   "source": [
    "df['Sex'] = df['Sex'].map({'male': 0, 'female': 1})  \n",
    "df = pd.get_dummies(df, columns=['Embarked']) "
   ]
  },
  {
   "cell_type": "code",
   "execution_count": 37,
   "id": "9803368d-3013-4b3a-a249-0036704a28bb",
   "metadata": {},
   "outputs": [],
   "source": [
    "scaler = StandardScaler()\n",
    "df[['Age', 'Fare']] = scaler.fit_transform(df[['Age', 'Fare']])"
   ]
  },
  {
   "cell_type": "code",
   "execution_count": 38,
   "id": "b5df32a0-a886-4436-b673-7715cc622fcc",
   "metadata": {},
   "outputs": [
    {
     "data": {
      "image/png": "[encoded data removed]",
      "text/plain": [
       "<Figure size 640x480 with 1 Axes>"
      ]
     },
     "metadata": {},
     "output_type": "display_data"
    }
   ],
   "source": [
    "sns.boxplot(x=df['Fare'])\n",
    "plt.title(\"Boxplot - Fare\")\n",
    "plt.show()"
   ]
  },
  {
   "cell_type": "code",
   "execution_count": 39,
   "id": "0ba8ad8d-418f-44bb-ae98-9d000dcf4f9a",
   "metadata": {},
   "outputs": [],
   "source": [
    "df = df[df['Fare'] < 300]"
   ]
  },
  {
   "cell_type": "code",
   "execution_count": 40,
   "id": "3dfe4ce9-160c-49fa-a10b-2fd52499ccf9",
   "metadata": {},
   "outputs": [],
   "source": [
    "df.to_csv(\"cleaned_Titanic.csv\", index=False)"
   ]
  },
  {
   "cell_type": "code",
   "execution_count": 42,
   "id": "38e38965-18d4-4d38-ae02-cbc0f900a8a0",
   "metadata": {},
   "outputs": [
    {
     "name": "stdout",
     "output_type": "stream",
     "text": [
      "Cleaned Data Preview:\n",
      "   PassengerId  Survived  Pclass  \\\n",
      "0            1         0       3   \n",
      "1            2         1       1   \n",
      "2            3         1       3   \n",
      "3            4         1       1   \n",
      "4            5         0       3   \n",
      "\n",
      "                                                Name  Sex       Age  SibSp  \\\n",
      "0                            Braund, Mr. Owen Harris    0 -0.565736      1   \n",
      "1  Cumings, Mrs. John Bradley (Florence Briggs Th...    1  0.663861      1   \n",
      "2                             Heikkinen, Miss. Laina    1 -0.258337      0   \n",
      "3       Futrelle, Mrs. Jacques Heath (Lily May Peel)    1  0.433312      1   \n",
      "4                           Allen, Mr. William Henry    0  0.433312      0   \n",
      "\n",
      "   Parch            Ticket      Fare  Embarked_C  Embarked_Q  Embarked_S  \n",
      "0      0         A/5 21171 -0.502445       False       False        True  \n",
      "1      0          PC 17599  0.786845        True       False       False  \n",
      "2      0  STON/O2. 3101282 -0.488854       False       False        True  \n",
      "3      0            113803  0.420730       False       False        True  \n",
      "4      0            373450 -0.486337       False       False        True  \n"
     ]
    }
   ],
   "source": [
    "print(\"Cleaned Data Preview:\")\n",
    "print(df.head())"
   ]
  },
  {
   "cell_type": "code",
   "execution_count": null,
   "id": "f700da1f-14ec-45fd-85c7-0bda2e5a349a",
   "metadata": {},
   "outputs": [],
   "source": []
  }
 ],
 "metadata": {
  "kernelspec": {
   "display_name": "Python 3 (ipykernel)",
   "language": "python",
   "name": "python3"
  },
  "language_info": {
   "codemirror_mode": {
    "name": "ipython",
    "version": 3
   },
   "file_extension": ".py",
   "mimetype": "text/x-python",
   "name": "python",
   "nbconvert_exporter": "python",
   "pygments_lexer": "ipython3",
   "version": "3.12.4"
  }
 },
 "nbformat": 4,
 "nbformat_minor": 5
}
